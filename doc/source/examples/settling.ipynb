{
 "cells": [
  {
   "cell_type": "markdown",
   "metadata": {},
   "source": [
    "# Settling\n",
    "\n",
    "In this example, we look at some of the options available for running with settling. This is a departure from the assumption of passive transport, or surface only transport, that has been made in the preceeding examples.\n",
    "\n",
    "The example is carried out in 1D using outputs from the [General Ocean Turbulence Model (*GOTM*)](https://github.com/gotm-model). The *GOTM* outputs have been pre-generated for the example. They have been created using Version 6.0 of the *GOTM* library. We use a *GOTM* configuration for Station L4, which forms part of the [Western Channel Observatory (WCO)](https://www.westernchannelobservatory.org.uk/). The configuration files form part of the [European Regional Seas Ecosystem Model (ERSEM)](https://github.com/pmlmodelling/ersem) suite of [standard setups](https://github.com/pmlmodelling/ersem-setups).\n",
    "\n",
    "The *GOTM* outputs can be [downloaded here](https://drive.google.com/open?id=15UX7Y9JnuLpnPAz700mzmzd917nTClxR), or recreated from scratch using code and data available at the above links. If you would like to run the code in this notebook interactively, download the data into a directory of your chooising. By default, the notebook will look for these files in the directory `${HOME}/data/pylag_doc`. To change this, simply update the *data_dir* path below."
   ]
  },
  {
   "cell_type": "code",
   "execution_count": 1,
   "metadata": {},
   "outputs": [],
   "source": [
    "import os\n",
    "\n",
    "# Root directory for PyLag example input files\n",
    "data_dir='{}/data/pylag_doc'.format(os.environ['HOME'])"
   ]
  },
  {
   "cell_type": "markdown",
   "metadata": {},
   "source": [
    "## Background\n",
    "\n",
    "As described in the [documentation](../documentation/settling.ipynb), temporal changes in a particle's vertical position within the water column are modeled using an equation of the form:\n",
    "\n",
    "$$\n",
    "\\begin{equation}\n",
    "    dZ\\left(t\\right) = \\left(w + \\dfrac{\\partial K\\left(z\\right)}{\\partial z}\\right)dt + \\left(2 K \\left(z, t \\right)\\right)^{1/2} dW\\left(t\\right)\n",
    "\\end{equation}\n",
    "$$\n",
    "\n",
    "where $Z\\left(t\\right)$ is the particle's position vector; $w$ is the vertical velocity; $K$ is the vertical eddy diffusivity; and $dW\\left(t\\right)$ is a Wiener noise term. Settling is incorporated into the model by letting $w = w_{\\mathrm{w}} + w_{\\mathrm{s}}$, where $w_{\\mathrm{w}}$ is the vertical velocity of the water and $w_{\\mathrm{s}}$ is the particle's settling velocity.\n",
    "\n",
    "The settling velocity is computed using a settling velocity calculator. Here, we demonstrate this using a constant settling velocity calculator, which assigns a fixed settling velocity to all particles. Vertical eddy diffusivities are taken from the GOTM simulation for Station L4."
   ]
  },
  {
   "cell_type": "markdown",
   "metadata": {},
   "source": [
    "## Setting particle initial positions\n",
    "\n",
    "We will create an initial position file in which to record [particle initial positions](../documentation/initial_positions.ipynb). This will be read in by *PyLag* when the model starts up. Here, we start all particles at a depth off at a depth of 1 cm below the sea surface."
   ]
  },
  {
   "cell_type": "code",
   "execution_count": 2,
   "metadata": {},
   "outputs": [],
   "source": [
    "from pylag.processing.input import create_initial_positions_file_single_group\n",
    "\n",
    "# Keep a copy of the cwd\n",
    "cwd = os.getcwd()\n",
    "\n",
    "# Initial properties (other than z) of test particles\n",
    "group_id = 0\n",
    "x_0 = 0.0\n",
    "y_0 = 0.0\n",
    "z_0 = -0.01\n",
    "\n",
    "# The number of particles in the particle seed\n",
    "n_particles = 10000\n",
    "\n",
    "# Create run directory\n",
    "simulation_dir = '{}/simulations/gotm_settling'.format(cwd)\n",
    "try:\n",
    "    os.makedirs(simulation_dir)\n",
    "except FileExistsError:\n",
    "    pass\n",
    "\n",
    "# Create input sub-directory\n",
    "input_dir = '{}/input'.format(simulation_dir)\n",
    "try:\n",
    "    os.makedirs(input_dir)\n",
    "except FileExistsError:\n",
    "    pass\n",
    "\n",
    "# Crate the particle set\n",
    "x = []\n",
    "y = []\n",
    "z = []\n",
    "for i in range(n_particles):\n",
    "    x.append(x_0)\n",
    "    y.append(y_0)\n",
    "    z.append(z_0)\n",
    "\n",
    "# Create the initial positions file\n",
    "file_name = '{}/initial_positions.dat'.format(input_dir)\n",
    "create_initial_positions_file_single_group(file_name, n_particles, group_id, x, y, z)"
   ]
  },
  {
   "cell_type": "markdown",
   "metadata": {},
   "source": [
    "## Creating the run configuration file\n",
    "\n",
    "For this example, a template GOTM run configuration file has been provided. Configuration options specific to settling are described in the [documentation](../documentation/settling.ipynb). Here, we use a constant settling velocity calculator with a settling velocity of 0.005 m/s. At the bottom boundary, we use an absorbing boundary condition, meaning all particles that cross the bottom boundary are retained there. This results in the number of particles remaining in the water column decreasing over time. These and some of the settings controlling the duration of the simulation are described below."
   ]
  },
  {
   "cell_type": "code",
   "execution_count": 3,
   "metadata": {},
   "outputs": [
    {
     "name": "stdout",
     "output_type": "stream",
     "text": [
      "CONFIGURATION OPTIONS (SELECTED)\n",
      "\n",
      "\n",
      "Start time: 2010-06-25 12:00:00\n",
      "End time: 2010-06-26 12:00:00\n",
      "\n",
      "Model name: GOTM\n",
      "\n",
      "Numerical method: standard\n",
      "Iterative method: AdvDiff_Milstein_1D\n",
      "Time step: 2 s\n",
      "\n",
      "Vertical interpolation method: linear\n",
      "\n",
      "Settling scheme: Constant\n",
      "Settling initialisation method: fixed_value\n",
      "Settling velocity: 0.005 m/s\n",
      "\n",
      "Boundary conditions: bottom_absorbing\n"
     ]
    }
   ],
   "source": [
    "import configparser\n",
    "\n",
    "config_file_name = './configs/gotm_settling_template.cfg'\n",
    "\n",
    "cf = configparser.ConfigParser()\n",
    "cf.read(config_file_name)\n",
    "\n",
    "print('CONFIGURATION OPTIONS (SELECTED)\\n\\n')\n",
    "\n",
    "# Start time\n",
    "print('Start time: {}'.format(cf.get('SIMULATION', 'start_datetime')))\n",
    "\n",
    "# End time\n",
    "print('End time: {}'.format(cf.get('SIMULATION', 'end_datetime')))\n",
    "\n",
    "\n",
    "# Specify that we are working with GOTM inputs \n",
    "print('\\nModel name: {}'.format(cf.get('OCEAN_CIRCULATION_MODEL', 'name')))\n",
    "      \n",
    "# Use the Milstein diffusive mixing scheme in 1D with a two second time step\n",
    "print('\\nNumerical method: {}'.format(cf.get('NUMERICS', 'num_method')))\n",
    "print('Iterative method: {}'.format(cf.get('NUMERICS', 'iterative_method')))\n",
    "print('Time step: {} s'.format(cf.get('NUMERICS', 'time_step_diff')))\n",
    "\n",
    "# Use a linear interpolation scheme\n",
    "print('\\nVertical interpolation method: {}'.format(cf.get('OCEAN_CIRCULATION_MODEL',\n",
    "                                                          'vertical_interpolation_scheme')))\n",
    "\n",
    "# Use a constant settling velocity calculator with a fixed settling velocity\n",
    "print('\\nSettling scheme: {}'.format(cf.get('SETTLING', 'settling_velocity_calculator')))\n",
    "print('Settling initialisation method: {}'.format(cf.get('CONSTANT_SETTLING_VELOCITY_CALCULATOR',\n",
    "                                                         'initialisation_method')))\n",
    "print('Settling velocity: {} m/s'.format(cf.get('CONSTANT_SETTLING_VELOCITY_CALCULATOR',\n",
    "                                                'settling_velocity')))\n",
    "\n",
    "# Boundary conditions\n",
    "print('\\nBoundary conditions: {}'.format(cf.get('BOUNDARY_CONDITIONS', 'vert_bound_cond')))"
   ]
  },
  {
   "cell_type": "markdown",
   "metadata": {},
   "source": [
    "As in the previous examples, we must modify the template configuration file by adding in the correct paths to the input data. With these modifications made, we save the configuration file in the simulation direcotry."
   ]
  },
  {
   "cell_type": "code",
   "execution_count": 4,
   "metadata": {},
   "outputs": [],
   "source": [
    "cf.set('OCEAN_CIRCULATION_MODEL', 'data_dir', data_dir)\n",
    "cf.set('OCEAN_CIRCULATION_MODEL', 'data_file_stem', 'gotm_l4_200')\n",
    "cf.set('OCEAN_CIRCULATION_MODEL', 'grid_metrics_file', '{}/gotm_l4_200_level.nc'.format(data_dir))\n",
    "with open(\"{}/pylag.cfg\".format(simulation_dir), 'w') as config:\n",
    "    cf.write(config)"
   ]
  },
  {
   "cell_type": "markdown",
   "metadata": {},
   "source": [
    "## Running the model\n",
    "\n",
    "With the run configuration files saved, we can now run the example. A small driver script has been provided for each simulation, which we will use here to launch *PyLag*. These launch *PyLag* in *serial* mode."
   ]
  },
  {
   "cell_type": "code",
   "execution_count": 5,
   "metadata": {},
   "outputs": [],
   "source": [
    "import subprocess\n",
    "\n",
    "os.chdir('{}'.format(simulation_dir))\n",
    "\n",
    "try:\n",
    "    subprocess.call(['./run.sh'])\n",
    "except:\n",
    "    print('Run failed.')\n",
    "    pass\n",
    "\n",
    "# Return to the cwd\n",
    "os.chdir(cwd)"
   ]
  },
  {
   "cell_type": "markdown",
   "metadata": {},
   "source": [
    "## Visualising the result\n",
    "\n",
    "With the simulation having run, we can plot the impact of settling by looking at the fraction of particles left in the water column as a function of time:"
   ]
  },
  {
   "cell_type": "code",
   "execution_count": 6,
   "metadata": {},
   "outputs": [
    {
     "data": {
      "text/plain": [
       "(0.0, 1.0)"
      ]
     },
     "execution_count": 6,
     "metadata": {},
     "output_type": "execute_result"
    },
    {
     "data": {
      "image/png": "[encoded data removed]",
      "text/plain": [
       "<Figure size 510.236x510.236 with 1 Axes>"
      ]
     },
     "metadata": {},
     "output_type": "display_data"
    }
   ],
   "source": [
    "import numpy as np\n",
    "from matplotlib import pyplot as plt\n",
    "import matplotlib.dates as md\n",
    "\n",
    "# PyLag modules\n",
    "from pylag.processing.ncview import Viewer\n",
    "from pylag.processing.plot import create_figure\n",
    "from datetime import datetime\n",
    "\n",
    "# Ensure inline plotting\n",
    "%matplotlib inline\n",
    "\n",
    "# Font size for plotting\n",
    "fs = 10\n",
    "\n",
    "# Date limits\n",
    "ds = datetime(2010,6,25,12)\n",
    "de = datetime(2010,6,25,18)\n",
    "\n",
    "# Date formatter\n",
    "xfmt = md.DateFormatter('%H:%M:%S')\n",
    "\n",
    "# Create figure\n",
    "fig, ax = create_figure(figure_size=(18., 18.), font_size=fs, axis_position=[0.15, 0.2, 0.78, 0.78])\n",
    "\n",
    "# Open the output file for reading\n",
    "file_name = '{}/output/pylag_1.nc'.format(simulation_dir)\n",
    "viewer = Viewer(file_name)\n",
    "\n",
    "# Plot the fraction of particles left in the water column as a function of time\n",
    "ax.plot(viewer.date, np.sum(viewer('in_domain'), axis=1) / viewer('in_domain')[:].shape[1],\n",
    "        color='k')\n",
    "\n",
    "# Configure plot properties\n",
    "ax.set_xlabel('Time', fontsize=fs)\n",
    "ax.set_ylabel('Fraction in water (-)', fontsize=fs)\n",
    "for label in ax.get_xticklabels():\n",
    "    label.set_rotation(40)\n",
    "ax.xaxis.set_major_formatter(xfmt)\n",
    "ax.set_xlim(ds, de)\n",
    "ax.set_ylim(0.0, 1.0)"
   ]
  },
  {
   "cell_type": "markdown",
   "metadata": {},
   "source": [
    "In the simulation, all particles were started from the same position in the water column, 1 cm below the free surface. The depth of the water column at station L4 is 50 m. With a sinking velocity of 0.005 m/s, we see the first particles reach the sea bed approximately two hours after the simulation was started. The is a spread in the time it takes particles to reach the sea bed, which reflects the action of vertical diffusion.\n",
    "\n",
    "For more details on running with settling, see the model [documentation](../documentation/settling.ipynb)."
   ]
  }
 ],
 "metadata": {
  "kernelspec": {
   "display_name": "Python 3",
   "language": "python",
   "name": "python3"
  },
  "language_info": {
   "codemirror_mode": {
    "name": "ipython",
    "version": 3
   },
   "file_extension": ".py",
   "mimetype": "text/x-python",
   "name": "python",
   "nbconvert_exporter": "python",
   "pygments_lexer": "ipython3",
   "version": "3.8.5"
  }
 },
 "nbformat": 4,
 "nbformat_minor": 4
}
